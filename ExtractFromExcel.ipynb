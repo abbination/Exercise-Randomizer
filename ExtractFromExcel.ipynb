{
 "cells": [
  {
   "cell_type": "code",
   "execution_count": 2,
   "id": "3dd6003d-9e06-4e85-8cce-2253235a4f8d",
   "metadata": {},
   "outputs": [],
   "source": [
    "#import libraries\n",
    "import pandas as pd\n",
    "from sqlalchemy import create_engine\n",
    "import requests\n",
    "import os\n",
    "import openpyxl"
   ]
  },
  {
   "cell_type": "code",
   "execution_count": 3,
   "id": "f0425dd6-b23b-45cb-a92e-de3381295440",
   "metadata": {},
   "outputs": [
    {
     "name": "stdout",
     "output_type": "stream",
     "text": [
      "        Exercise        Area  NeedsMat          Type\n",
      "0         Squats  Lower body         0  Calisthenics\n",
      "1         Lunges  Lower body         0  Calisthenics\n",
      "2  Static lunges  Lower body         0  Calisthenics\n",
      "3  Curtsy lunges  Lower body         0  Calisthenics\n",
      "4    Sumo squats  Lower body         0  Calisthenics\n",
      "<class 'pandas.core.frame.DataFrame'>\n",
      "RangeIndex: 52 entries, 0 to 51\n",
      "Data columns (total 4 columns):\n",
      " #   Column    Non-Null Count  Dtype \n",
      "---  ------    --------------  ----- \n",
      " 0   Exercise  52 non-null     object\n",
      " 1   Area      52 non-null     object\n",
      " 2   NeedsMat  52 non-null     int64 \n",
      " 3   Type      52 non-null     object\n",
      "dtypes: int64(1), object(3)\n",
      "memory usage: 1.8+ KB\n",
      "None\n"
     ]
    }
   ],
   "source": [
    "#Get the current script's folder\n",
    "root_dir = os.getcwd()\n",
    "\n",
    "#Form the complete file path\n",
    "file_path = os.path.join(root_dir, 'ExerciseData.xlsx')\n",
    "\n",
    "#read data and check types\n",
    "df_exercise = pd.read_excel(file_path)\n",
    "print(df_exercise.head())\n",
    "print(df_exercise.info())"
   ]
  },
  {
   "cell_type": "code",
   "execution_count": 33,
   "id": "67eb2c94-001a-45f3-976e-eeaadf62971d",
   "metadata": {},
   "outputs": [
    {
     "name": "stdout",
     "output_type": "stream",
     "text": [
      "        Exercise        Area  NeedsMat          Type  NeedsMatBool\n",
      "0         Squats  Lower body         0  Calisthenics         False\n",
      "1         Lunges  Lower body         0  Calisthenics         False\n",
      "2  Static lunges  Lower body         0  Calisthenics         False\n",
      "3  Curtsy lunges  Lower body         0  Calisthenics         False\n",
      "4    Sumo squats  Lower body         0  Calisthenics         False\n",
      "<class 'pandas.core.frame.DataFrame'>\n",
      "RangeIndex: 52 entries, 0 to 51\n",
      "Data columns (total 5 columns):\n",
      " #   Column        Non-Null Count  Dtype \n",
      "---  ------        --------------  ----- \n",
      " 0   Exercise      52 non-null     object\n",
      " 1   Area          52 non-null     object\n",
      " 2   NeedsMat      52 non-null     int64 \n",
      " 3   Type          52 non-null     object\n",
      " 4   NeedsMatBool  52 non-null     bool  \n",
      "dtypes: bool(1), int64(1), object(3)\n",
      "memory usage: 1.8+ KB\n",
      "None\n"
     ]
    }
   ],
   "source": [
    "#Add column for turning NeedsMat into bool\n",
    "df_exercise[\"NeedsMatBool\"] = df_exercise.astype('bool').NeedsMat\n",
    "print(df_exercise.head())\n",
    "print(df_exercise.info())"
   ]
  },
  {
   "cell_type": "markdown",
   "id": "486f4d62-a633-4e95-968d-a655ab1f222a",
   "metadata": {},
   "source": [
    "### "
   ]
  },
  {
   "cell_type": "code",
   "execution_count": 34,
   "id": "b65c3b3d-1b6c-4f2c-9610-74f435539f91",
   "metadata": {},
   "outputs": [
    {
     "name": "stdout",
     "output_type": "stream",
     "text": [
      "               Exercise        Area  NeedsMat          Type  NeedsMatBool\n",
      "0                Squats  Lower body         0  Calisthenics         False\n",
      "1                Lunges  Lower body         0  Calisthenics         False\n",
      "2         Static lunges  Lower body         0  Calisthenics         False\n",
      "3         Curtsy lunges  Lower body         0  Calisthenics         False\n",
      "4           Sumo squats  Lower body         0  Calisthenics         False\n",
      "5         Narrow squats  Lower body         0  Calisthenics         False\n",
      "6          Pilates 100s        Core         1  Calisthenics          True\n",
      "7              Bicycles        Core         1  Calisthenics          True\n",
      "8                 Plank        Core         1  Calisthenics          True\n",
      "9               Pushups  Upper body         1  Calisthenics          True\n",
      "10     Plank side steps        Core         1  Calisthenics          True\n",
      "11           Plank saws        Core         1  Calisthenics          True\n",
      "12    Bird-dog crunches        Core         1  Calisthenics          True\n",
      "13    Mountain climbers        Core         1  Calisthenics          True\n",
      "14  Laying side presses  Upper body         1  Calisthenics          True\n",
      "15               Bridge  Lower body         1  Calisthenics          True\n",
      "16           V-squeezes        Core         1  Calisthenics          True\n",
      "17            Supermans        Core         1  Calisthenics          True\n",
      "18            Swim legs        Core         1  Calisthenics          True\n",
      "19          Side lunges  Lower body         0  Calisthenics         False\n",
      "20          Calf raises  Lower body         0  Calisthenics         False\n",
      "21            Leg tucks        Core         0  Calisthenics         False\n",
      "22           Knee pulls        Core         1  Calisthenics          True\n",
      "23              Sit ups        Core         1  Calisthenics          True\n",
      "24          Bicep curls  Upper body         0       Weights         False\n",
      "25         Hammer curls  Upper body         0       Weights         False\n",
      "26    Tricep extensions  Upper body         0       Weights         False\n",
      "27           Chest flys  Upper body         1       Weights          True\n",
      "28       Arnold presses  Upper body         0       Weights         False\n",
      "29        Chest presses  Upper body         1       Weights          True\n",
      "30       Skull crushers  Upper body         1       Weights          True\n",
      "31            Wide rows  Upper body         0       Weights         False\n",
      "32          Narrow rows  Upper body         0       Weights         False\n",
      "33            Deadlifts  Lower body         0       Weights         False\n",
      "34  Lateral side raises  Upper body         0       Weights         False\n",
      "35         Front raises  Upper body         0       Weights         False\n",
      "36        Goblet squats  Lower body         0       Weights         False\n",
      "37           Pull overs        Core         1       Weights          True\n",
      "38     Straight presses  Upper body         1       Weights          True\n",
      "39         Push presses  Upper body         0       Weights         False\n",
      "40  Plank pass throughs        Core         1       Weights          True\n",
      "41            Rear flys  Upper body         0       Weights         False\n",
      "42            Kickbacks  Upper body         0       Weights         False\n",
      "43       Dumbbell swing  Upper body         0       Weights         False\n",
      "44        Shadow boxing  Upper body         0       Weights         False\n",
      "45      Stationary bike  Lower body         0        Cardio         False\n",
      "46        Jumping jacks   Full body         0        Cardio         False\n",
      "47              Stepper  Lower body         0        Cardio         False\n",
      "48           High knees  Lower body         0        Cardio         False\n",
      "49           Butt kicks  Lower body         0        Cardio         False\n",
      "50              Skaters   Full body         0        Cardio         False\n",
      "51     Squat side walks  Lower body         0        Cardio         False\n"
     ]
    }
   ],
   "source": [
    "#ensure that the values between NeedsMat and NeedsMatBool match\n",
    "print(df_exercise)"
   ]
  },
  {
   "cell_type": "code",
   "execution_count": 36,
   "id": "582a19eb-6c2c-453c-beed-1ea7fba7b7c9",
   "metadata": {},
   "outputs": [
    {
     "name": "stdout",
     "output_type": "stream",
     "text": [
      "        Exercise        Area          Type  NeedsMatBool\n",
      "0         Squats  Lower body  Calisthenics         False\n",
      "1         Lunges  Lower body  Calisthenics         False\n",
      "2  Static lunges  Lower body  Calisthenics         False\n",
      "3  Curtsy lunges  Lower body  Calisthenics         False\n",
      "4    Sumo squats  Lower body  Calisthenics         False\n",
      "<class 'pandas.core.frame.DataFrame'>\n",
      "RangeIndex: 52 entries, 0 to 51\n",
      "Data columns (total 4 columns):\n",
      " #   Column        Non-Null Count  Dtype \n",
      "---  ------        --------------  ----- \n",
      " 0   Exercise      52 non-null     object\n",
      " 1   Area          52 non-null     object\n",
      " 2   Type          52 non-null     object\n",
      " 3   NeedsMatBool  52 non-null     bool  \n",
      "dtypes: bool(1), object(3)\n",
      "memory usage: 1.4+ KB\n",
      "None\n"
     ]
    }
   ],
   "source": [
    "#drop old NeedsMat\n",
    "df_exercise = df_exercise.drop(columns='NeedsMat')\n",
    "print(df_exercise.head())\n",
    "print(df_exercise.info())"
   ]
  },
  {
   "cell_type": "code",
   "execution_count": 40,
   "id": "76aae0af-2aab-4daa-88c1-6eb0b36e977b",
   "metadata": {},
   "outputs": [
    {
     "name": "stdout",
     "output_type": "stream",
     "text": [
      "        Exercise        Area          Type  NeedsMat\n",
      "0         Squats  Lower body  Calisthenics     False\n",
      "1         Lunges  Lower body  Calisthenics     False\n",
      "2  Static lunges  Lower body  Calisthenics     False\n",
      "3  Curtsy lunges  Lower body  Calisthenics     False\n",
      "4    Sumo squats  Lower body  Calisthenics     False\n",
      "<class 'pandas.core.frame.DataFrame'>\n",
      "RangeIndex: 52 entries, 0 to 51\n",
      "Data columns (total 4 columns):\n",
      " #   Column    Non-Null Count  Dtype \n",
      "---  ------    --------------  ----- \n",
      " 0   Exercise  52 non-null     object\n",
      " 1   Area      52 non-null     object\n",
      " 2   Type      52 non-null     object\n",
      " 3   NeedsMat  52 non-null     bool  \n",
      "dtypes: bool(1), object(3)\n",
      "memory usage: 1.4+ KB\n",
      "None\n"
     ]
    }
   ],
   "source": [
    "df_exercise = df_exercise.rename(columns={\"NeedsMatBool\": \"NeedsMat\"})\n",
    "print(df_exercise.head())\n",
    "print(df_exercise.info())"
   ]
  },
  {
   "cell_type": "code",
   "execution_count": 22,
   "id": "3e1fe883-a1ce-4f5d-a58a-56b13ab4e2c5",
   "metadata": {},
   "outputs": [
    {
     "name": "stdout",
     "output_type": "stream",
     "text": [
      "        Exercise        Area  NeedsMat          Type\n",
      "0         Squats  Lower body     False  Calisthenics\n",
      "1         Lunges  Lower body     False  Calisthenics\n",
      "2  Static lunges  Lower body     False  Calisthenics\n",
      "3  Curtsy lunges  Lower body     False  Calisthenics\n",
      "4    Sumo squats  Lower body     False  Calisthenics\n"
     ]
    }
   ],
   "source": []
  },
  {
   "cell_type": "code",
   "execution_count": null,
   "id": "baf2cc42-3c34-4c8d-b675-343993d292af",
   "metadata": {},
   "outputs": [],
   "source": []
  }
 ],
 "metadata": {
  "kernelspec": {
   "display_name": "Python 3 (ipykernel)",
   "language": "python",
   "name": "python3"
  },
  "language_info": {
   "codemirror_mode": {
    "name": "ipython",
    "version": 3
   },
   "file_extension": ".py",
   "mimetype": "text/x-python",
   "name": "python",
   "nbconvert_exporter": "python",
   "pygments_lexer": "ipython3",
   "version": "3.13.2"
  }
 },
 "nbformat": 4,
 "nbformat_minor": 5
}
